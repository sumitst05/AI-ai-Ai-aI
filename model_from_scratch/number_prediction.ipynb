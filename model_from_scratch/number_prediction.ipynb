{
  "nbformat": 4,
  "nbformat_minor": 0,
  "metadata": {
    "colab": {
      "provenance": []
    },
    "kernelspec": {
      "name": "python3",
      "display_name": "Python 3"
    },
    "language_info": {
      "name": "python"
    }
  },
  "cells": [
    {
      "cell_type": "code",
      "execution_count": 53,
      "metadata": {
        "id": "no8qP3pjVHr_"
      },
      "outputs": [],
      "source": [
        "import tensorflow\n",
        "from tensorflow import keras\n",
        "import numpy as np\n",
        "import matplotlib.pyplot as plt"
      ]
    },
    {
      "cell_type": "code",
      "source": [
        "(x_train, y_train), (x_test, y_test) = keras.datasets.mnist.load_data()"
      ],
      "metadata": {
        "id": "t74oojgTXc1P"
      },
      "execution_count": 54,
      "outputs": []
    },
    {
      "cell_type": "code",
      "source": [
        "print(x_train.shape)\n",
        "print(x_test.shape)"
      ],
      "metadata": {
        "colab": {
          "base_uri": "https://localhost:8080/"
        },
        "id": "GPM8NWolYbnB",
        "outputId": "2a2dfab4-2e46-4adc-d8f9-bad81c4b4aab"
      },
      "execution_count": 55,
      "outputs": [
        {
          "output_type": "stream",
          "name": "stdout",
          "text": [
            "(60000, 28, 28)\n",
            "(10000, 28, 28)\n"
          ]
        }
      ]
    },
    {
      "cell_type": "code",
      "source": [
        "index_to_check = 59999\n",
        "\n",
        "# Get the image and label at the specified index\n",
        "image = x_train[index_to_check]\n",
        "label = y_train[index_to_check]\n",
        "\n",
        "# Plot the image\n",
        "plt.imshow(image)\n",
        "plt.title(f\"Label: {label}\")\n",
        "plt.show()\n"
      ],
      "metadata": {
        "colab": {
          "base_uri": "https://localhost:8080/",
          "height": 452
        },
        "id": "5hMVw9MiYvw9",
        "outputId": "f27c995b-4040-414d-dfb6-6bab3d0b0738"
      },
      "execution_count": 56,
      "outputs": [
        {
          "output_type": "display_data",
          "data": {
            "text/plain": [
              "<Figure size 640x480 with 1 Axes>"
            ],
            "image/png": "[encoded data removed]"
          },
          "metadata": {}
        }
      ]
    },
    {
      "cell_type": "markdown",
      "source": [
        "# **Preprocessing**"
      ],
      "metadata": {
        "id": "6GWq9Pnqg8B4"
      }
    },
    {
      "cell_type": "code",
      "source": [
        "x_train_flattened = x_train.reshape(60000, 28 * 28)\n",
        "x_test_flattened = x_test.reshape(10000, 28 * 28)"
      ],
      "metadata": {
        "id": "rf51vsbQajVs"
      },
      "execution_count": 57,
      "outputs": []
    },
    {
      "cell_type": "code",
      "source": [
        "print(x_train_flattened.shape)\n",
        "print(x_test_flattened.shape)"
      ],
      "metadata": {
        "colab": {
          "base_uri": "https://localhost:8080/"
        },
        "id": "WYtXOULghTdN",
        "outputId": "16660d3e-396e-4e50-83b4-0eaa1f4ea8f1"
      },
      "execution_count": 58,
      "outputs": [
        {
          "output_type": "stream",
          "name": "stdout",
          "text": [
            "(60000, 784)\n",
            "(10000, 784)\n"
          ]
        }
      ]
    },
    {
      "cell_type": "markdown",
      "source": [
        "# **Building the model**"
      ],
      "metadata": {
        "id": "e7qahmr7h1P1"
      }
    },
    {
      "cell_type": "code",
      "source": [
        "model = keras.Sequential([\n",
        "    keras.layers.Dense(400, input_shape=(28 * 28,), activation='relu'), # Input Layer\n",
        "    keras.layers.Dense(100, activation='sigmoid'),                      # Hidden Layer\n",
        "    keras.layers.Dense(10, activation='sigmoid')                        # Output Layer\n",
        "])"
      ],
      "metadata": {
        "id": "ZGVloq1Eh4jU"
      },
      "execution_count": 59,
      "outputs": []
    },
    {
      "cell_type": "code",
      "source": [
        "model.compile(\n",
        "    loss='sparse_categorical_crossentropy',\n",
        "    optimizer='adam',\n",
        "    metrics=['accuracy'],\n",
        ")"
      ],
      "metadata": {
        "id": "WJ-0usQPmvKJ"
      },
      "execution_count": 60,
      "outputs": []
    },
    {
      "cell_type": "markdown",
      "source": [
        "# **Training the model**\n"
      ],
      "metadata": {
        "id": "2K_CzHIFqzh-"
      }
    },
    {
      "cell_type": "code",
      "source": [
        "model.fit(x_train_flattened, y_train, batch_size = 500, epochs = 10)"
      ],
      "metadata": {
        "colab": {
          "base_uri": "https://localhost:8080/"
        },
        "id": "4l5xcEfcq18s",
        "outputId": "2c47d662-6d9b-4578-ceeb-3ba661cd219e"
      },
      "execution_count": 73,
      "outputs": [
        {
          "output_type": "stream",
          "name": "stdout",
          "text": [
            "Epoch 1/10\n",
            "120/120 [==============================] - 4s 29ms/step - loss: 0.0817 - accuracy: 0.9759\n",
            "Epoch 2/10\n",
            "120/120 [==============================] - 2s 20ms/step - loss: 0.0732 - accuracy: 0.9782\n",
            "Epoch 3/10\n",
            "120/120 [==============================] - 2s 20ms/step - loss: 0.0685 - accuracy: 0.9796\n",
            "Epoch 4/10\n",
            "120/120 [==============================] - 2s 20ms/step - loss: 0.0655 - accuracy: 0.9803\n",
            "Epoch 5/10\n",
            "120/120 [==============================] - 2s 20ms/step - loss: 0.0609 - accuracy: 0.9820\n",
            "Epoch 6/10\n",
            "120/120 [==============================] - 4s 32ms/step - loss: 0.0609 - accuracy: 0.9815\n",
            "Epoch 7/10\n",
            "120/120 [==============================] - 2s 20ms/step - loss: 0.0556 - accuracy: 0.9829\n",
            "Epoch 8/10\n",
            "120/120 [==============================] - 2s 20ms/step - loss: 0.0548 - accuracy: 0.9840\n",
            "Epoch 9/10\n",
            "120/120 [==============================] - 2s 20ms/step - loss: 0.0550 - accuracy: 0.9837\n",
            "Epoch 10/10\n",
            "120/120 [==============================] - 2s 20ms/step - loss: 0.0520 - accuracy: 0.9838\n"
          ]
        },
        {
          "output_type": "execute_result",
          "data": {
            "text/plain": [
              "<keras.src.callbacks.History at 0x7a0e525de5c0>"
            ]
          },
          "metadata": {},
          "execution_count": 73
        }
      ]
    },
    {
      "cell_type": "markdown",
      "source": [
        "# **Testing the model**"
      ],
      "metadata": {
        "id": "dMccjo1TsspO"
      }
    },
    {
      "cell_type": "code",
      "source": [
        "model.evaluate(x_train_flattened, y_train)"
      ],
      "metadata": {
        "colab": {
          "base_uri": "https://localhost:8080/"
        },
        "id": "ZyDTfX5Psvf-",
        "outputId": "72f50a99-a30e-45c5-be83-8edf13e30709"
      },
      "execution_count": 76,
      "outputs": [
        {
          "output_type": "stream",
          "name": "stdout",
          "text": [
            "1875/1875 [==============================] - 6s 3ms/step - loss: 0.0436 - accuracy: 0.9867\n"
          ]
        },
        {
          "output_type": "execute_result",
          "data": {
            "text/plain": [
              "[0.04363032057881355, 0.9867166876792908]"
            ]
          },
          "metadata": {},
          "execution_count": 76
        }
      ]
    },
    {
      "cell_type": "code",
      "source": [
        "index = 6\n",
        "scoreArray = model.predict(x_test_flattened)\n",
        "print(scoreArray[index])\n",
        "\n",
        "print(np.argmax(scoreArray[index]))   # predicted number\n",
        "print(y_test[index])                  # actual number"
      ],
      "metadata": {
        "colab": {
          "base_uri": "https://localhost:8080/"
        },
        "id": "zIVK56K9sDPW",
        "outputId": "2a7c85a7-ab0a-40fd-d8be-e4082031f424"
      },
      "execution_count": 77,
      "outputs": [
        {
          "output_type": "stream",
          "name": "stdout",
          "text": [
            "313/313 [==============================] - 1s 2ms/step\n",
            "[0.00654826 0.09468266 0.01955429 0.00739305 0.9990253  0.05242429\n",
            " 0.04139514 0.11062124 0.5397369  0.33481386]\n",
            "4\n",
            "4\n"
          ]
        }
      ]
    },
    {
      "cell_type": "code",
      "source": [
        "plt.matshow(x_test[index])"
      ],
      "metadata": {
        "colab": {
          "base_uri": "https://localhost:8080/",
          "height": 454
        },
        "id": "q_nY7HLQtwdM",
        "outputId": "8b6e2f25-d455-4a7e-e0e3-ea0cbd0cdc60"
      },
      "execution_count": 78,
      "outputs": [
        {
          "output_type": "execute_result",
          "data": {
            "text/plain": [
              "<matplotlib.image.AxesImage at 0x7a0e5eeea1d0>"
            ]
          },
          "metadata": {},
          "execution_count": 78
        },
        {
          "output_type": "display_data",
          "data": {
            "text/plain": [
              "<Figure size 480x480 with 1 Axes>"
            ],
            "image/png": "[encoded data removed]"
          },
          "metadata": {}
        }
      ]
    },
    {
      "cell_type": "markdown",
      "source": [
        "# **Uploading custom Image**"
      ],
      "metadata": {
        "id": "Z7LRfoiy4A3k"
      }
    },
    {
      "cell_type": "code",
      "source": [
        "import os\n",
        "import cv2"
      ],
      "metadata": {
        "id": "r77P5H_x4E3i"
      },
      "execution_count": 79,
      "outputs": []
    },
    {
      "cell_type": "code",
      "source": [
        "# os.mkdir(\"./test_data\")"
      ],
      "metadata": {
        "id": "voQCWsY04JeY"
      },
      "execution_count": 80,
      "outputs": []
    },
    {
      "cell_type": "code",
      "source": [
        "# Resizing the uploaded image\n",
        "def resize_image(image):\n",
        "  image = np.array(image)\n",
        "  image = cv2.resize(image, (28, 28))\n",
        "  image = cv2.bitwise_not(image)     # invert colors\n",
        "\n",
        "  return image"
      ],
      "metadata": {
        "id": "YGnAOlHs4Ok3"
      },
      "execution_count": 93,
      "outputs": []
    },
    {
      "cell_type": "code",
      "source": [
        "image = cv2.imread(\"./test_data/three.png\")\n",
        "image = cv2.cvtColor(image, cv2.COLOR_BGR2GRAY)\n",
        "resized_image = resize_image(image)"
      ],
      "metadata": {
        "id": "HLf3axmB8xKd"
      },
      "execution_count": 92,
      "outputs": []
    },
    {
      "cell_type": "code",
      "source": [
        "plt.matshow(resized_image, cmap = plt.cm.binary)"
      ],
      "metadata": {
        "colab": {
          "base_uri": "https://localhost:8080/",
          "height": 454
        },
        "id": "UKKDmRPp88_w",
        "outputId": "7e5a362d-cd97-4aa3-9045-970655e3733d"
      },
      "execution_count": 83,
      "outputs": [
        {
          "output_type": "execute_result",
          "data": {
            "text/plain": [
              "<matplotlib.image.AxesImage at 0x7a0e5f048cd0>"
            ]
          },
          "metadata": {},
          "execution_count": 83
        },
        {
          "output_type": "display_data",
          "data": {
            "text/plain": [
              "<Figure size 480x480 with 1 Axes>"
            ],
            "image/png": "[encoded data removed]"
          },
          "metadata": {}
        }
      ]
    },
    {
      "cell_type": "code",
      "source": [
        "image.shape"
      ],
      "metadata": {
        "id": "I4wtBRC2_-wc",
        "colab": {
          "base_uri": "https://localhost:8080/"
        },
        "outputId": "691ba6ea-7cb7-48fc-c993-88b96a8838d7"
      },
      "execution_count": 84,
      "outputs": [
        {
          "output_type": "execute_result",
          "data": {
            "text/plain": [
              "(225, 224)"
            ]
          },
          "metadata": {},
          "execution_count": 84
        }
      ]
    },
    {
      "cell_type": "code",
      "source": [
        "def predict(image):\n",
        "  image = image.reshape(1, 28*28)\n",
        "  scoreArray = model.predict(image)\n",
        "  prediction = np.argmax(scoreArray[0])\n",
        "\n",
        "  return prediction"
      ],
      "metadata": {
        "id": "-YoN0NMRgoBQ"
      },
      "execution_count": 85,
      "outputs": []
    },
    {
      "cell_type": "code",
      "source": [
        "print(predict(resized_image))   # check prediction"
      ],
      "metadata": {
        "colab": {
          "base_uri": "https://localhost:8080/"
        },
        "id": "70Bqi87EhWGQ",
        "outputId": "ae5b72e4-cd7e-473b-c03b-1ee832a99b64"
      },
      "execution_count": 86,
      "outputs": [
        {
          "output_type": "stream",
          "name": "stdout",
          "text": [
            "1/1 [==============================] - 0s 36ms/step\n",
            "6\n"
          ]
        }
      ]
    },
    {
      "cell_type": "markdown",
      "source": [
        "# **Saving the model**"
      ],
      "metadata": {
        "id": "akZf28CsmH2Z"
      }
    },
    {
      "cell_type": "code",
      "source": [
        "# os.mkdir(\"./saved_models\")"
      ],
      "metadata": {
        "id": "qJHRc4EThlm1"
      },
      "execution_count": 87,
      "outputs": []
    },
    {
      "cell_type": "code",
      "source": [
        "model.save(\"./saved_models\")"
      ],
      "metadata": {
        "id": "YKt31mexmgXF"
      },
      "execution_count": 88,
      "outputs": []
    },
    {
      "cell_type": "code",
      "source": [
        "!zip -r ./saved_models.zip ./saved_models"
      ],
      "metadata": {
        "colab": {
          "base_uri": "https://localhost:8080/"
        },
        "id": "PUf1U2Znmwpq",
        "outputId": "a0dea04b-663d-49bd-8060-98b812e9c4ad"
      },
      "execution_count": 89,
      "outputs": [
        {
          "output_type": "stream",
          "name": "stdout",
          "text": [
            "  adding: saved_models/ (stored 0%)\n",
            "  adding: saved_models/fingerprint.pb (stored 0%)\n",
            "  adding: saved_models/keras_metadata.pb (deflated 86%)\n",
            "  adding: saved_models/assets/ (stored 0%)\n",
            "  adding: saved_models/variables/ (stored 0%)\n",
            "  adding: saved_models/variables/variables.index (deflated 59%)\n",
            "  adding: saved_models/variables/variables.data-00000-of-00001 (deflated 11%)\n",
            "  adding: saved_models/saved_model.pb (deflated 86%)\n"
          ]
        }
      ]
    }
  ]
}